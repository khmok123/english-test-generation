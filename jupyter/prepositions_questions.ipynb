{
 "cells": [
  {
   "cell_type": "code",
   "execution_count": 74,
   "id": "a0001f2a",
   "metadata": {},
   "outputs": [],
   "source": [
    "import wikipedia\n",
    "wikipedia.set_lang('simple')\n",
    "dt = wikipedia.page(\"Donald Trump\")\n",
    "text = dt.summary"
   ]
  },
  {
   "cell_type": "code",
   "execution_count": 23,
   "id": "c7e65deb",
   "metadata": {},
   "outputs": [
    {
     "data": {
      "text/plain": [
       "'Donald John Trump (born June 14, 1946) is an American politician who was the 45th President of the United States from 2017 to 2021. Before becoming president, he was a businessman and television personality.\\nTrump was the chairman and president of The Trump Organization. Much of his money was made in real estate in New York City, Las Vegas, and Atlantic City. He used to own the Miss Universe pageant. He was the star in his own reality show The Apprentice. In October 2019, Trump changed his official residency state from New York to Florida.In June 2015, Trump announced that he would run for President of the United States in the 2016 presidential election, although most people did not expect him to win. Starting mid-July, polls showed that Trump was the front-runner in the Republican field, ahead of Ted Cruz. This was true even after much criticism from his party due to his comments on illegal immigration, Muslims, and ISIS. His campaign gained support from mostly middle-class and rural working class families. It gained opposition from Democrats, some Republicans, business people, some world leaders and the pope.On May 4, 2016, Trump became the presumptive nominee after his only remaining challengers, Texas United States senator Ted Cruz and Ohio Governor John Kasich, dropped out. He became the president-elect November 9, 2016, after a close race with former Secretary of State Hillary Clinton. Each of them needed 270 electoral votes to win. Trump had 304 while Clinton had 227. He was inaugurated as the 45th president on January 20, 2017. At 70 years old, Trump became the oldest person ever to become President of the United States to that point, until Joe Biden was inaugurated four years later.\\nOn September 24, 2019, Speaker of the House Nancy Pelosi announced that the House of Representatives would begin an impeachment inquiry into Trump. On October 31, 2019, the House voted 232–196 to establish procedures for public hearings. On December 16, the House Judiciary Committee released a report specifying criminal bribery and wire fraud charges as part of the abuse of power charge. The house voted to impeach Trump in December 2019, making him the third president in American history to be impeached. He was acquitted by the Senate in February 2020.In November 2020, Trump lost his re-election bid to former Vice President Joe Biden following the 2020 election. He became the first president since George H. W. Bush in 1992 to lose his re-election bid. However, he still has not recognised his loss and claims to have won the election by a large amount. He is also suing states that went to Biden. In January 2021, Trump controversially called Georgia Secretary of State Brad Raffensperger trying to \"get more votes\" and reverse Biden\\'s win in the state. A few days later, his supporters rioted at the United States Capitol which killed five people. This led to the United States House of Representatives to impeach Trump for a second time. This made Trump the only president to be impeached twice. The United States Senate voted to have Trump not guilty of the indictment that the House of Representatives had him impeached on.'"
      ]
     },
     "execution_count": 23,
     "metadata": {},
     "output_type": "execute_result"
    }
   ],
   "source": [
    "text"
   ]
  },
  {
   "cell_type": "code",
   "execution_count": 13,
   "id": "6f1fd2ce",
   "metadata": {},
   "outputs": [
    {
     "name": "stdout",
     "output_type": "stream",
     "text": [
      "slowly\n"
     ]
    }
   ],
   "source": [
    "import pyinflect\n",
    "doc = nlp(\"slowly\")\n",
    "for token in doc:\n",
    "    print(token._.inflect('JJ'))"
   ]
  },
  {
   "cell_type": "code",
   "execution_count": 1,
   "id": "7e147c13",
   "metadata": {},
   "outputs": [],
   "source": [
    "import spacy\n",
    "from spacy.matcher import Matcher\n",
    "from nltk.tokenize.treebank import TreebankWordDetokenizer\n",
    "import re\n",
    "import random\n",
    "\n",
    "nlp=spacy.load(\"en_core_web_sm\")\n",
    "\n",
    "def fill_in_the_blanks_prepositions(text):\n",
    "    doc = nlp(text)\n",
    "    matcher = Matcher(nlp.vocab)\n",
    "\n",
    "    prep_pattern = [{\"TAG\": \"IN\"}]\n",
    "\n",
    "    matcher.add(\"preposition\", [prep_pattern])\n",
    "\n",
    "    matches = matcher(doc, as_spans=True)\n",
    "    prep_list = [str(match).lower() for match in matches]\n",
    "    random.shuffle(prep_list)\n",
    "\n",
    "    prep_indices = [match.start for match in matches]\n",
    "\n",
    "    tokenized = [str(token) for token in doc]\n",
    "\n",
    "    for idx in prep_indices:\n",
    "        tokenized[idx] = '__________'\n",
    "\n",
    "    processed_text = TreebankWordDetokenizer().detokenize(tokenized)\n",
    "    processed_text = re.sub(r'\\s([?.!\"](?:\\s|$))', r'\\1', processed_text)\n",
    "\n",
    "    print(*prep_list, sep=' ')\n",
    "    print('\\n')\n",
    "    print(processed_text)\n",
    "\n",
    "\n",
    "def fill_in_the_blanks_question_words(text):\n",
    "    doc = nlp(text)\n",
    "    matcher = Matcher(nlp.vocab)\n",
    "\n",
    "    wh_pattern = [{\"TAG\": {\"IN\":[\"WRB\", \"WDT\", \"WP\"]}}]\n",
    "\n",
    "    matcher.add(\"\", [wh_pattern])\n",
    "\n",
    "    matches = matcher(doc, as_spans=True)\n",
    "    \n",
    "    # Make sure that it is indeed a question\n",
    "    questions_intervals = []\n",
    "    for sent in doc.sents:\n",
    "        if str(sent).endswith('?'):\n",
    "            questions_intervals.append([sent.start, sent.end])\n",
    "            \n",
    "    real_question_matches = []\n",
    "    for match in matches:\n",
    "        for interval in questions_intervals:\n",
    "            if match.start >= interval[0] and match.end <= interval[1]:\n",
    "                real_question_matches.append(match)\n",
    "    \n",
    "    qword_list = [str(match).capitalize() for match in real_question_matches]\n",
    "    random.shuffle(qword_list)\n",
    "\n",
    "    qword_indices = [match.start for match in real_question_matches]\n",
    "\n",
    "    tokenized = [str(token) for token in doc]\n",
    "\n",
    "    for idx in qword_indices:\n",
    "        tokenized[idx] = '__________'\n",
    "    \n",
    "    processed_text = TreebankWordDetokenizer().detokenize(tokenized)\n",
    "    processed_text = re.sub(r'\\s([?.!\"](?:\\s|$))', r'\\1', processed_text)\n",
    "\n",
    "    print(*qword_list, sep=' ')\n",
    "    print('\\n')\n",
    "    print(processed_text)\n",
    "    \n",
    "def fill_in_the_blanks_adjectives(text, comparative=True, superlative=True, adverbs=True):\n",
    "    doc = nlp(text)\n",
    "    matcher = Matcher(nlp.vocab)\n",
    "\n",
    "    adj_orig_pattern = [[{\"TAG\":\"JJ\"}]]\n",
    "    adj_comp_pattern = [[{\"TAG\":\"JJR\"}],\n",
    "                       [{\"POS\":\"ADV\",\"TAG\":\"RBR\"},{\"TAG\":\"JJ\"}]]\n",
    "    adj_sup_pattern = [[{\"LOWER\":\"the\"},{\"TAG\":\"JJS\"}],\n",
    "                      [{\"POS\":\"ADV\",\"TAG\":\"RBS\"},{\"TAG\":\"JJ\"}]]\n",
    "    adv_orig_pattern = [[{\"POS\":\"ADV\"}]]\n",
    "    adv_comp_pattern = [[{\"POS\":\"ADV\",\"TAG\":\"RBR\"}],\n",
    "                        [{\"POS\":\"ADV\",\"TAG\":\"RBR\"},{\"POS\":\"ADV\",\"TAG\":\"RB\"}]]\n",
    "    adv_sup_pattern = [[{\"POS\":\"ADV\", \"TAG\":\"RBS\"}],\n",
    "                      [{\"POS\":\"ADV\",\"TAG\":\"RBS\"},{\"POS\":\"ADV\",\"TAG\":\"RB\"}]]\n",
    "    \n",
    "    matcher.add(\"Adjective\", adj_orig_pattern,greedy=\"LONGEST\")\n",
    "    matcher.add(\"Adjective (comparative)\", adj_comp_pattern, greedy=\"LONGEST\")\n",
    "    matcher.add(\"Adjective (superlative)\", adj_sup_pattern, greedy=\"LONGEST\")\n",
    "    matcher.add(\"Adverb\", adv_orig_pattern,greedy=\"LONGEST\")\n",
    "    matcher.add(\"Adverb (comparative)\", adv_comp_pattern, greedy=\"LONGEST\")\n",
    "    matcher.add(\"Adverb (superlative)\", adv_sup_pattern, greedy=\"LONGEST\")\n",
    "        \n",
    "    matches = matcher(doc)\n",
    "                      \n",
    "    for match_id, start, end in matches:\n",
    "        string_id = nlp.vocab.strings[match_id]  # Get string representation\n",
    "        span = doc[start:end]  # The matched span\n",
    "        print(string_id, start, end, span.text)\n",
    "\n",
    "#     matches = matcher(doc, as_spans=True)\n",
    "\n",
    "    \n"
   ]
  },
  {
   "cell_type": "code",
   "execution_count": 81,
   "id": "3d7820cd",
   "metadata": {},
   "outputs": [
    {
     "name": "stdout",
     "output_type": "stream",
     "text": [
      "Adjective 12 13 American\n",
      "Adjective 17 18 45th\n",
      "Adjective 52 53 Much\n",
      "Adjective 59 60 real\n",
      "Adjective 88 89 own\n",
      "Adjective 101 102 official\n",
      "Adjective 129 130 presidential\n",
      "Adjective 153 154 front\n",
      "Adjective 158 159 Republican\n",
      "Adjective 168 169 true\n",
      "Adjective 171 172 much\n",
      "Adjective 181 182 illegal\n",
      "Adjective 195 196 middle\n",
      "Adjective 199 200 rural\n",
      "Adjective 232 233 presumptive\n",
      "Adjective 236 237 only\n",
      "Adjective 268 269 close\n",
      "Adjective 271 272 former\n",
      "Adjective 283 284 electoral\n",
      "Adjective 301 302 45th\n",
      "Adjective 312 313 old\n",
      "Adjective 381 382 public\n",
      "Adjective 396 397 criminal\n",
      "Adjective 424 425 third\n",
      "Adjective 427 428 American\n",
      "Adjective 453 454 former\n",
      "Adjective 466 467 first\n",
      "Adjective 501 502 large\n",
      "Adjective 544 545 few\n",
      "Adjective 575 576 second\n",
      "Adjective 580 581 Trump\n",
      "Adjective 582 583 only\n",
      "Adjective 598 599 guilty\n",
      "Adverb 161 162 ahead\n",
      "Adverb 169 170 even\n",
      "Adverb 194 195 mostly\n",
      "Adverb 319 320 ever\n",
      "Adverb 338 339 later\n",
      "Adverb 483 484 However\n",
      "Adverb 486 487 still\n",
      "Adverb 506 507 also\n",
      "Adverb 519 520 controversially\n",
      "Adverb 546 547 later\n",
      "Adverb 587 588 twice\n",
      "Adjective (superlative) 316 318 the oldest\n",
      "Adjective (comparative) 531 532 more\n"
     ]
    }
   ],
   "source": [
    "fill_in_the_blanks_adjectives(\"\")"
   ]
  },
  {
   "cell_type": "code",
   "execution_count": 64,
   "id": "c092625b",
   "metadata": {},
   "outputs": [
    {
     "data": {
      "text/plain": [
       "[[12, 17]]"
      ]
     },
     "execution_count": 64,
     "metadata": {},
     "output_type": "execute_result"
    }
   ],
   "source": [
    "doc = nlp(\"I am from Hong Kong. I am not in Germany. Are you from Germany? Yes I am!\")\n",
    "questions_intervals = []\n",
    "for sent in doc.sents:\n",
    "    if str(sent).endswith('?'):\n",
    "        questions_intervals.append([sent.start, sent.end])\n",
    "        \n",
    "questions_intervals\n"
   ]
  }
 ],
 "metadata": {
  "kernelspec": {
   "display_name": "Python 3",
   "language": "python",
   "name": "python3"
  },
  "language_info": {
   "codemirror_mode": {
    "name": "ipython",
    "version": 3
   },
   "file_extension": ".py",
   "mimetype": "text/x-python",
   "name": "python",
   "nbconvert_exporter": "python",
   "pygments_lexer": "ipython3",
   "version": "3.8.5"
  }
 },
 "nbformat": 4,
 "nbformat_minor": 5
}
