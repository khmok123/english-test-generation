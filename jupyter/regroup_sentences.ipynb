{
 "cells": [
  {
   "cell_type": "code",
   "execution_count": 27,
   "id": "b0362937",
   "metadata": {},
   "outputs": [],
   "source": [
    "import spacy\n",
    "import random\n",
    "\n",
    "def regroup_sentence(sent):\n",
    "    nlp=spacy.load(\"en_core_web_sm\")\n",
    "    doc = nlp(sent)\n",
    "    ent_intervals = [[ent.start, ent.end] for ent in doc.ents]\n",
    "    ents = [str(ent) for ent in doc.ents]\n",
    "    non_ents = []\n",
    "    for token in doc:\n",
    "        is_ent = False\n",
    "        for interval in ent_intervals:\n",
    "            if token.i in range(interval[0],interval[1]):\n",
    "                is_ent = True\n",
    "        if not is_ent:\n",
    "            non_ents.append(str(token))\n",
    "    words = ents+non_ents\n",
    "    random.shuffle(words)\n",
    "    print(*words, sep=' / ')"
   ]
  },
  {
   "cell_type": "code",
   "execution_count": 30,
   "id": "0ad0aa4e",
   "metadata": {},
   "outputs": [
    {
     "name": "stdout",
     "output_type": "stream",
     "text": [
      "food / I / cooking / the / enjoyed\n",
      "worried / exam / the / about / I / was\n",
      "met / shopping / the / We / mall / in\n",
      "for / the / abroad / did / When / travel / time / first / you\n",
      "anniversary / tenth / Yesterday / parents / my / ' / wedding / was\n",
      "the / often / bookstore / visit / I\n"
     ]
    }
   ],
   "source": [
    "sentence = \"I enjoyed cooking the food\"\n",
    "regroup_sentence(sentence)\n",
    "sentence = \"I was worried about the exam\"\n",
    "regroup_sentence(sentence)\n",
    "sentence = \"We met in the shopping mall\"\n",
    "regroup_sentence(sentence)\n",
    "sentence = \"When did you travel abroad for the first time\"\n",
    "regroup_sentence(sentence)\n",
    "sentence = \"Yesterday was my parents' tenth wedding anniversary\"\n",
    "regroup_sentence(sentence)\n",
    "sentence = \"I often visit the bookstore\"\n",
    "regroup_sentence(sentence)"
   ]
  }
 ],
 "metadata": {
  "kernelspec": {
   "display_name": "Python 3",
   "language": "python",
   "name": "python3"
  },
  "language_info": {
   "codemirror_mode": {
    "name": "ipython",
    "version": 3
   },
   "file_extension": ".py",
   "mimetype": "text/x-python",
   "name": "python",
   "nbconvert_exporter": "python",
   "pygments_lexer": "ipython3",
   "version": "3.8.5"
  }
 },
 "nbformat": 4,
 "nbformat_minor": 5
}
