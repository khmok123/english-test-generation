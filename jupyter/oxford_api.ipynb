{
 "cells": [
  {
   "cell_type": "code",
   "execution_count": 8,
   "id": "3f064e02",
   "metadata": {},
   "outputs": [],
   "source": [
    "from docx import Document\n",
    "doc = Document()\n",
    "p = doc.add_paragraph()\n",
    "p.style = \"List Number\"\n",
    "\n",
    "# help(p.style)"
   ]
  },
  {
   "cell_type": "code",
   "execution_count": 3,
   "id": "20b328e7",
   "metadata": {},
   "outputs": [],
   "source": [
    "import json, requests, spacy, re\n",
    "\n",
    "app_id = \"APP_ID\"\n",
    "app_key = \"APP_KEY\"\n",
    "\n",
    "def oxford_dict_json(word_id, app_id, app_key, lang = 'en'):\n",
    "    endpoint = \"entries\"\n",
    "    language_code = lang\n",
    "    url = \"https://od-api.oxforddictionaries.com/api/v2/\" + endpoint + \"/\" + language_code + \"/\" + word_id.lower()\n",
    "    r = requests.get(url, headers = {\"app_id\": app_id, \"app_key\": app_key})\n",
    "    json_string = json.dumps(r.json())\n",
    "    return json_string\n",
    "\n",
    "def get_examples(json_string):\n",
    "    word_json = json.loads(json_string)\n",
    "    dict_ = word_json['results'][0]['lexicalEntries'][0]['entries'][0]['senses'][0]\n",
    "    examples = [dict_['examples'][0]['text']] + [subsense_dict['examples'][0]['text'] for subsense_dict in dict_['subsenses']]\n",
    "    return examples\n",
    "\n",
    "def truecase(sentence):\n",
    "    nlp = spacy.load('en_core_web_sm')\n",
    "    doc = nlp(sentence)\n",
    "    tagged_sent = [(w.text, w.tag_) for w in doc]\n",
    "    normalized_sent = [w.capitalize() if t in [\"NNP\"] else w for (w,t) in tagged_sent]\n",
    "    normalized_sent[0] = normalized_sent[0].capitalize()\n",
    "    string = re.sub(\" (?=[\\.,'!?:;])\", \"\", ' '.join(normalized_sent))\n",
    "    return string\n",
    "\n",
    "def oxford_example_list(word_id, app_id, app_key, lang = 'en'):\n",
    "    json_string = oxford_dict_json(word_id, app_id, app_key, lang = lang)\n",
    "    examples_lowercase = get_examples(json_string)\n",
    "    examples = [truecase(example)+'.' for example in examples_lowercase]\n",
    "    return examples"
   ]
  },
  {
   "cell_type": "code",
   "execution_count": 5,
   "id": "bb04b1f6",
   "metadata": {},
   "outputs": [],
   "source": [
    "json_string = oxford_dict_json(\"earthquake\", app_id, app_key, lang = 'en')"
   ]
  },
  {
   "cell_type": "code",
   "execution_count": 6,
   "id": "34ea62df",
   "metadata": {},
   "outputs": [
    {
     "data": {
      "text/plain": [
       "'{\"id\": \"earthquake\", \"metadata\": {\"operation\": \"retrieve\", \"provider\": \"Oxford University Press\", \"schema\": \"RetrieveEntry\"}, \"results\": [{\"id\": \"earthquake\", \"language\": \"en-gb\", \"lexicalEntries\": [{\"entries\": [{\"pronunciations\": [{\"audioFile\": \"https://audio.oxforddictionaries.com/en/mp3/earthquake_gb_1.mp3\", \"dialects\": [\"British English\"], \"phoneticNotation\": \"IPA\", \"phoneticSpelling\": \"\\\\u02c8\\\\u0259\\\\u02d0\\\\u03b8kwe\\\\u026ak\"}], \"senses\": [{\"definitions\": [\"a sudden violent shaking of the ground, typically causing great destruction, as a result of movements within the earth\\'s crust or volcanic action.\"], \"domainClasses\": [{\"id\": \"geology\", \"text\": \"Geology\"}], \"id\": \"m_en_gbus0307960.005\", \"semanticClasses\": [{\"id\": \"earthquake\", \"text\": \"Earthquake\"}], \"shortDefinitions\": [\"sudden violent shaking of ground as result of movements within earth\\'s crust or volcanic action\"], \"subsenses\": [{\"definitions\": [\"a great upheaval\"], \"examples\": [{\"text\": \"a political earthquake\"}], \"id\": \"m_en_gbus0307960.008\", \"semanticClasses\": [{\"id\": \"event\", \"text\": \"Event\"}], \"shortDefinitions\": [\"great upheaval\"], \"synonyms\": [{\"language\": \"en\", \"text\": \"upheaval\"}, {\"language\": \"en\", \"text\": \"eruption\"}, {\"language\": \"en\", \"text\": \"turmoil\"}, {\"language\": \"en\", \"text\": \"turbulence\"}, {\"language\": \"en\", \"text\": \"disruption\"}, {\"language\": \"en\", \"text\": \"agitation\"}, {\"language\": \"en\", \"text\": \"disturbance\"}, {\"language\": \"en\", \"text\": \"unrest\"}, {\"language\": \"en\", \"text\": \"disorder\"}, {\"language\": \"en\", \"text\": \"furore\"}, {\"language\": \"en\", \"text\": \"upset\"}, {\"language\": \"en\", \"text\": \"tumult\"}, {\"language\": \"en\", \"text\": \"chaos\"}], \"thesaurusLinks\": [{\"entry_id\": \"convulsion\", \"sense_id\": \"t_en_gb0003016.003\"}]}], \"synonyms\": [{\"language\": \"en\", \"text\": \"earth tremor\"}, {\"language\": \"en\", \"text\": \"tremor\"}, {\"language\": \"en\", \"text\": \"convulsion\"}, {\"language\": \"en\", \"text\": \"shock\"}, {\"language\": \"en\", \"text\": \"foreshock\"}, {\"language\": \"en\", \"text\": \"aftershock\"}], \"thesaurusLinks\": [{\"entry_id\": \"earthquake\", \"sense_id\": \"t_en_gb0004584.001\"}]}]}], \"language\": \"en-gb\", \"lexicalCategory\": {\"id\": \"noun\", \"text\": \"Noun\"}, \"text\": \"earthquake\"}], \"type\": \"headword\", \"word\": \"earthquake\"}], \"word\": \"earthquake\"}'"
      ]
     },
     "execution_count": 6,
     "metadata": {},
     "output_type": "execute_result"
    }
   ],
   "source": [
    "json_string"
   ]
  },
  {
   "cell_type": "code",
   "execution_count": 4,
   "id": "8fa88146",
   "metadata": {},
   "outputs": [
    {
     "ename": "KeyError",
     "evalue": "'examples'",
     "output_type": "error",
     "traceback": [
      "\u001b[1;31m---------------------------------------------------------------------------\u001b[0m",
      "\u001b[1;31mKeyError\u001b[0m                                  Traceback (most recent call last)",
      "\u001b[1;32m<ipython-input-4-85f84cc67f09>\u001b[0m in \u001b[0;36m<module>\u001b[1;34m\u001b[0m\n\u001b[1;32m----> 1\u001b[1;33m \u001b[0moxford_examples\u001b[0m \u001b[1;33m=\u001b[0m \u001b[0moxford_example_list\u001b[0m\u001b[1;33m(\u001b[0m\u001b[1;34m\"earthquake\"\u001b[0m\u001b[1;33m,\u001b[0m \u001b[0mapp_id\u001b[0m\u001b[1;33m,\u001b[0m \u001b[0mapp_key\u001b[0m\u001b[1;33m)\u001b[0m\u001b[1;33m\u001b[0m\u001b[1;33m\u001b[0m\u001b[0m\n\u001b[0m\u001b[0;32m      2\u001b[0m \u001b[0moxford_examples\u001b[0m\u001b[1;33m\u001b[0m\u001b[1;33m\u001b[0m\u001b[0m\n",
      "\u001b[1;32m<ipython-input-3-be94522619cf>\u001b[0m in \u001b[0;36moxford_example_list\u001b[1;34m(word_id, app_id, app_key, lang)\u001b[0m\n\u001b[0;32m     29\u001b[0m \u001b[1;32mdef\u001b[0m \u001b[0moxford_example_list\u001b[0m\u001b[1;33m(\u001b[0m\u001b[0mword_id\u001b[0m\u001b[1;33m,\u001b[0m \u001b[0mapp_id\u001b[0m\u001b[1;33m,\u001b[0m \u001b[0mapp_key\u001b[0m\u001b[1;33m,\u001b[0m \u001b[0mlang\u001b[0m \u001b[1;33m=\u001b[0m \u001b[1;34m'en'\u001b[0m\u001b[1;33m)\u001b[0m\u001b[1;33m:\u001b[0m\u001b[1;33m\u001b[0m\u001b[1;33m\u001b[0m\u001b[0m\n\u001b[0;32m     30\u001b[0m     \u001b[0mjson_string\u001b[0m \u001b[1;33m=\u001b[0m \u001b[0moxford_dict_json\u001b[0m\u001b[1;33m(\u001b[0m\u001b[0mword_id\u001b[0m\u001b[1;33m,\u001b[0m \u001b[0mapp_id\u001b[0m\u001b[1;33m,\u001b[0m \u001b[0mapp_key\u001b[0m\u001b[1;33m,\u001b[0m \u001b[0mlang\u001b[0m \u001b[1;33m=\u001b[0m \u001b[0mlang\u001b[0m\u001b[1;33m)\u001b[0m\u001b[1;33m\u001b[0m\u001b[1;33m\u001b[0m\u001b[0m\n\u001b[1;32m---> 31\u001b[1;33m     \u001b[0mexamples_lowercase\u001b[0m \u001b[1;33m=\u001b[0m \u001b[0mget_examples\u001b[0m\u001b[1;33m(\u001b[0m\u001b[0mjson_string\u001b[0m\u001b[1;33m)\u001b[0m\u001b[1;33m\u001b[0m\u001b[1;33m\u001b[0m\u001b[0m\n\u001b[0m\u001b[0;32m     32\u001b[0m     \u001b[0mexamples\u001b[0m \u001b[1;33m=\u001b[0m \u001b[1;33m[\u001b[0m\u001b[0mtruecase\u001b[0m\u001b[1;33m(\u001b[0m\u001b[0mexample\u001b[0m\u001b[1;33m)\u001b[0m\u001b[1;33m+\u001b[0m\u001b[1;34m'.'\u001b[0m \u001b[1;32mfor\u001b[0m \u001b[0mexample\u001b[0m \u001b[1;32min\u001b[0m \u001b[0mexamples_lowercase\u001b[0m\u001b[1;33m]\u001b[0m\u001b[1;33m\u001b[0m\u001b[1;33m\u001b[0m\u001b[0m\n\u001b[0;32m     33\u001b[0m     \u001b[1;32mreturn\u001b[0m \u001b[0mexamples\u001b[0m\u001b[1;33m\u001b[0m\u001b[1;33m\u001b[0m\u001b[0m\n",
      "\u001b[1;32m<ipython-input-3-be94522619cf>\u001b[0m in \u001b[0;36mget_examples\u001b[1;34m(json_string)\u001b[0m\n\u001b[0;32m     15\u001b[0m     \u001b[0mword_json\u001b[0m \u001b[1;33m=\u001b[0m \u001b[0mjson\u001b[0m\u001b[1;33m.\u001b[0m\u001b[0mloads\u001b[0m\u001b[1;33m(\u001b[0m\u001b[0mjson_string\u001b[0m\u001b[1;33m)\u001b[0m\u001b[1;33m\u001b[0m\u001b[1;33m\u001b[0m\u001b[0m\n\u001b[0;32m     16\u001b[0m     \u001b[0mdict_\u001b[0m \u001b[1;33m=\u001b[0m \u001b[0mword_json\u001b[0m\u001b[1;33m[\u001b[0m\u001b[1;34m'results'\u001b[0m\u001b[1;33m]\u001b[0m\u001b[1;33m[\u001b[0m\u001b[1;36m0\u001b[0m\u001b[1;33m]\u001b[0m\u001b[1;33m[\u001b[0m\u001b[1;34m'lexicalEntries'\u001b[0m\u001b[1;33m]\u001b[0m\u001b[1;33m[\u001b[0m\u001b[1;36m0\u001b[0m\u001b[1;33m]\u001b[0m\u001b[1;33m[\u001b[0m\u001b[1;34m'entries'\u001b[0m\u001b[1;33m]\u001b[0m\u001b[1;33m[\u001b[0m\u001b[1;36m0\u001b[0m\u001b[1;33m]\u001b[0m\u001b[1;33m[\u001b[0m\u001b[1;34m'senses'\u001b[0m\u001b[1;33m]\u001b[0m\u001b[1;33m[\u001b[0m\u001b[1;36m0\u001b[0m\u001b[1;33m]\u001b[0m\u001b[1;33m\u001b[0m\u001b[1;33m\u001b[0m\u001b[0m\n\u001b[1;32m---> 17\u001b[1;33m     \u001b[0mexamples\u001b[0m \u001b[1;33m=\u001b[0m \u001b[1;33m[\u001b[0m\u001b[0mdict_\u001b[0m\u001b[1;33m[\u001b[0m\u001b[1;34m'examples'\u001b[0m\u001b[1;33m]\u001b[0m\u001b[1;33m[\u001b[0m\u001b[1;36m0\u001b[0m\u001b[1;33m]\u001b[0m\u001b[1;33m[\u001b[0m\u001b[1;34m'text'\u001b[0m\u001b[1;33m]\u001b[0m\u001b[1;33m]\u001b[0m \u001b[1;33m+\u001b[0m \u001b[1;33m[\u001b[0m\u001b[0msubsense_dict\u001b[0m\u001b[1;33m[\u001b[0m\u001b[1;34m'examples'\u001b[0m\u001b[1;33m]\u001b[0m\u001b[1;33m[\u001b[0m\u001b[1;36m0\u001b[0m\u001b[1;33m]\u001b[0m\u001b[1;33m[\u001b[0m\u001b[1;34m'text'\u001b[0m\u001b[1;33m]\u001b[0m \u001b[1;32mfor\u001b[0m \u001b[0msubsense_dict\u001b[0m \u001b[1;32min\u001b[0m \u001b[0mdict_\u001b[0m\u001b[1;33m[\u001b[0m\u001b[1;34m'subsenses'\u001b[0m\u001b[1;33m]\u001b[0m\u001b[1;33m]\u001b[0m\u001b[1;33m\u001b[0m\u001b[1;33m\u001b[0m\u001b[0m\n\u001b[0m\u001b[0;32m     18\u001b[0m     \u001b[1;32mreturn\u001b[0m \u001b[0mexamples\u001b[0m\u001b[1;33m\u001b[0m\u001b[1;33m\u001b[0m\u001b[0m\n\u001b[0;32m     19\u001b[0m \u001b[1;33m\u001b[0m\u001b[0m\n",
      "\u001b[1;31mKeyError\u001b[0m: 'examples'"
     ]
    }
   ],
   "source": [
    "oxford_examples = oxford_example_list(\"earthquake\", app_id, app_key)\n",
    "oxford_examples"
   ]
  },
  {
   "cell_type": "code",
   "execution_count": 121,
   "id": "2e8b4f8f",
   "metadata": {},
   "outputs": [
    {
     "name": "stdout",
     "output_type": "stream",
     "text": [
      "['humane', 'right', 'unmalicious', 'virtuous', 'mild']\n"
     ]
    }
   ],
   "source": [
    "# https://pypi.org/project/PyDictionary/\n",
    "\n",
    "from PyDictionary import PyDictionary\n",
    "dictionary=PyDictionary()\n",
    "print(dictionary.antonym(\"cruel\"))\n",
    "\n",
    "\n"
   ]
  }
 ],
 "metadata": {
  "kernelspec": {
   "display_name": "Python 3",
   "language": "python",
   "name": "python3"
  },
  "language_info": {
   "codemirror_mode": {
    "name": "ipython",
    "version": 3
   },
   "file_extension": ".py",
   "mimetype": "text/x-python",
   "name": "python",
   "nbconvert_exporter": "python",
   "pygments_lexer": "ipython3",
   "version": "3.8.5"
  }
 },
 "nbformat": 4,
 "nbformat_minor": 5
}
