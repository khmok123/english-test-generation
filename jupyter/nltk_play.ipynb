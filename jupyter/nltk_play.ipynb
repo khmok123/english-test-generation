{
 "cells": [
  {
   "cell_type": "code",
   "execution_count": 2,
   "id": "5cb7d287",
   "metadata": {},
   "outputs": [],
   "source": [
    "import wikipedia\n",
    "wikipedia.set_lang('simple')\n",
    "dt = wikipedia.page(\"Donald Trump\")\n",
    "text = dt.summary"
   ]
  },
  {
   "cell_type": "code",
   "execution_count": 4,
   "id": "c4789be3",
   "metadata": {},
   "outputs": [],
   "source": [
    "text = \"\"\"\n",
    "Little Red Riding Hood lived in a wood with her mother. One\n",
    "day Little Red Riding Hood went to visit her granny. She had\n",
    "a nice cake in her basket.\n",
    "On her way Little Red Riding Hood met a wolf.\n",
    "‘Hello!’ said the wolf. ‘Where are you going?’\n",
    "‘I’m going to see my grandmother. She lives in a house behind those trees.’\n",
    "The wolf ran to Granny’s house and ate Granny up. He got into Granny’s bed. A little\n",
    "later, Little Red Riding Hood reached the house. She looked at the wolf.\n",
    "‘Granny, what big eyes you have!’\n",
    "‘All the better to see you with!’ said the wolf.\n",
    "‘Granny, what big ears you have!’\n",
    "‘All the better to hear you with!’ said the wolf.\n",
    "‘Granny, what a big nose you have!’\n",
    "‘All the better to smell you with!’ said the wolf.\n",
    "‘Granny, what big teeth you have!’\n",
    "‘All the better to eat you with!’ shouted the wolf.\n",
    "A woodcutter was in the wood. He heard a loud scream and ran to the house.\n",
    "The woodcutter hit the wolf over the head. The wolf opened his mouth wide and\n",
    "shouted and Granny jumped out.\n",
    "The wolf ran away and Little Red Riding Hood never saw the wolf again. \n",
    "\"\"\""
   ]
  },
  {
   "cell_type": "code",
   "execution_count": 2,
   "id": "1250989a",
   "metadata": {},
   "outputs": [
    {
     "data": {
      "text/plain": [
       "'\\nBefore time was time, there was a Great Hill. And on the Great Hill there lived the Yolks. The Yolks spent their entire lives climbing the Great Hill, trying to reach the top. Some Yolks climbed fast. Some Yolks climbed slowly. One Yolk in particular was a very slow climber. He was different than the rest of the Yolks. When he climbed, all the other Yolks passed him. It was hard for him to watch them pass by. He felt like the worst climber in the world. Some Yolks made fun of him as they passed. Others didn’t. Some Yolks wanted to help him climb but he didn’t let them. It was hard for him to climb. It was even harder when it rained because the ground got slippery. Sometimes it seemed like it was only raining on him. But it wasn’t. There were times when he felt like he wasn’t moving at all. But he was. Then one day he met another Yolk who climbed even slower than he did. He helped the slower Yolk climb. “Thank You,” said the slower Yolk. “You’re Welcome,” said the slow Yolk, “I can’t be of much help to anyone else since I climb so slowly.” “Slowly?” asked the slower Yolk. “Well yes. I watch other Yolks pass me all the time.” “I do not know if you are slow or fast, but I do know that you helped me, and that you are still climbing.” The slow Yolk said goodbye to the slower Yolk, and kept climbing. “Still climbing,” he thought to himself. “That is true.” And he smiled. So the Yolk kept climbing. He climbed when it was nice out, he climbed when it rained, and he even climbed when it snowed. As he kept climbing he got better and better. Sometimes he would pass other Yolks and sometimes they would pass him. He had stopped paying attention. He also noticed that some Yolks were no longer climbing. When a yolk stops climbing it stays where it is. Some Yolks stop climbing because they are happy with how far they have gone. Others stop climbing because they don’t want to climb anymore. The Yolks that had stopped climbing did not like to be passed, and they made it harder to get by. But the Yolk kept climbing, right over them! There were still times when the Yolk thought he was climbing an impossible hill, but he kept climbing. Always, always, climbing. Do you think he made the top??\\n'"
      ]
     },
     "execution_count": 2,
     "metadata": {},
     "output_type": "execute_result"
    }
   ],
   "source": [
    "text"
   ]
  },
  {
   "cell_type": "code",
   "execution_count": 89,
   "id": "e3fa3a27",
   "metadata": {},
   "outputs": [
    {
     "data": {
      "text/plain": [
       "[('I', 'PRP'),\n",
       " ('will', 'MD'),\n",
       " ('have', 'VB'),\n",
       " ('been', 'VBN'),\n",
       " ('doing', 'VBG'),\n",
       " ('it', 'PRP'),\n",
       " ('for', 'IN'),\n",
       " ('three', 'CD'),\n",
       " ('years', 'NNS'),\n",
       " ('.', '.')]"
      ]
     },
     "execution_count": 89,
     "metadata": {},
     "output_type": "execute_result"
    }
   ],
   "source": [
    "'''\n",
    "https://www.ling.upenn.edu/courses/Fall_2003/ling001/penn_treebank_pos.html\n",
    "Tenses: \n",
    "Present: VBP/VBZ\n",
    "Present continuous: am/is/are/'m/'s/'re + (RB) + VG\n",
    "Past: VBD\n",
    "Past continuous: was/were + (RB) + VG\n",
    "Future: will/wo/shall + (RB) + VB\n",
    "Future II: am/is/are/'m/'s/'re + (RB) + going + to + VB\n",
    "Future continuous: will/wo/'ll + (RB) + be + (RB) + VG\n",
    "Present perfect: have/has/'ve' + (RB) + VBN\n",
    "Present perfect continuous: have/has + (RB) + been + (RB) + VG\n",
    "Past perfect: had + (RB) + VBN\n",
    "Past perfect continuous: had + (RB) + been + (RB) + VG\n",
    "Future perfect: will/wo/'ll + (RB) + have + (RB) + VBN\n",
    "Future perfect continuous: will/wo + (RB) + been + (RB) + VG\n",
    "Modal verbs: can/could/may/might/should/must/would/'d + (RB) + VB + (RB) + V(any)\n",
    "(Actually include future tenses)\n",
    "(*need to handle tenses myself)\n",
    "'''\n",
    "words = word_tokenize(\"I will have been doing it for three years.\")\n",
    "tagged = pos_tag(words)\n",
    "tagged"
   ]
  },
  {
   "cell_type": "code",
   "execution_count": 5,
   "id": "624b6733",
   "metadata": {},
   "outputs": [
    {
     "name": "stdout",
     "output_type": "stream",
     "text": [
      "Little Red Riding Hood ________________(live) in a wood with her mother. One day Little Red Riding Hood ________________(go) to ________________(visit) her granny. She ________________(have) a nice cake in her basket. On her way Little Red Riding Hood ________________(meet) a wolf. ‘ Hello! ’ ________________(say) the wolf. ________________(‘) Where ________________(be) you ________________(go)? ’ ‘ I ________________(’) m ________________(go) to ________________(see) my grandmother. She ________________(live) in a house behind those trees. ________________(’) The wolf ________________(run) to Granny ’ s house and ate Granny up. He ________________(get) into Granny ’ s bed. A little later, Little Red Riding Hood ________________(reach) the house. She ________________(look) at the wolf. ‘ Granny, what big eyes you ________________(have)! ________________(’) ‘ All the better to ________________(see) you with! ’ ________________(say) the wolf. ‘ Granny, what big ears you ________________(have)! ________________(’) ‘ All the better to ________________(hear) you with! ’ ________________(say) the wolf. ‘ Granny, what a big nose you ________________(have)! ________________(’) ‘ All the better to ________________(smell) you with! ’ ________________(say) the wolf. ‘ Granny, what big teeth you ________________(have)! ________________(’) ‘ All the better to ________________(eat) you with! ’ ________________(shout) the wolf. A woodcutter ________________(be) in the wood. He ________________(hear) a loud scream and ran to the house. The woodcutter ________________(hit) the wolf over the head. The wolf ________________(open) his mouth wide and shouted and Granny ________________(jump) out. The wolf ________________(run) away and Little Red Riding Hood never ________________(saw) the wolf again.\n"
     ]
    }
   ],
   "source": [
    "from nltk import pos_tag\n",
    "from nltk.tokenize import sent_tokenize, word_tokenize\n",
    "from nltk.stem.wordnet import WordNetLemmatizer\n",
    "from nltk.tokenize.treebank import TreebankWordDetokenizer\n",
    "import re\n",
    "# from word_forms.word_forms import get_word_forms\n",
    "\n",
    "# Remove parentheses and the contents contained in them\n",
    "text = re.sub(r'\\([^)]*\\)', '',text)\n",
    "\n",
    "verb_pos = ['VB', 'VBD', 'VBG', 'VBN', 'VBP', 'VBZ']\n",
    "\n",
    "words = word_tokenize(text)\n",
    "words_copy = words\n",
    "tagged = pos_tag(words)\n",
    "for idx, (word, pos) in enumerate(tagged):\n",
    "    if pos in verb_pos:\n",
    "        words_copy[idx] = \"________________(%s)\" % (WordNetLemmatizer().lemmatize(word.lower(),'v'))\n",
    "\n",
    "# Detokenize and strip space before punctuation but not after\n",
    "processed_text = TreebankWordDetokenizer().detokenize(words_copy)\n",
    "processed_text = re.sub(r'\\s([?.!\"](?:\\s|$))', r'\\1', processed_text)\n",
    "print(processed_text)"
   ]
  },
  {
   "cell_type": "code",
   "execution_count": 52,
   "id": "de8f1d38",
   "metadata": {},
   "outputs": [
    {
     "data": {
      "text/plain": [
       "[('A man named Randy liked to hunt trees. He looked for big trees and old trees. He made maps to show where these trees were. He did not want to cut them down. He wanted people to take care of them.\\n\\nRandy was told of a very tall tree on Vancouver Island. The tree was said to be 314 feet tall. That would make it the tallest tree in Canada. Randy set out to find the tree.\\n\\nBut someone else found it first. It was found by a logger. Loggers wanted to cut down Canada’s tallest tree and all the trees around it.\\n\\nRandy made a path in the forest so people could see the tall tree. The tree was so big and beautiful it would fill them with awe. More and more people wanted to save that forest. Thanks to these people, that forest is now a park. Canada’s tallest tree is still there.\\n\\nThere may still be a bigger tree out there. Maybe you will find it. But there are only a few old forests left in Canada. Many are still at risk of being cut down.\\n',\n",
       "  'NN')]"
      ]
     },
     "execution_count": 52,
     "metadata": {},
     "output_type": "execute_result"
    }
   ],
   "source": [
    "pos_tag([text])"
   ]
  }
 ],
 "metadata": {
  "kernelspec": {
   "display_name": "Python 3",
   "language": "python",
   "name": "python3"
  },
  "language_info": {
   "codemirror_mode": {
    "name": "ipython",
    "version": 3
   },
   "file_extension": ".py",
   "mimetype": "text/x-python",
   "name": "python",
   "nbconvert_exporter": "python",
   "pygments_lexer": "ipython3",
   "version": "3.8.5"
  }
 },
 "nbformat": 4,
 "nbformat_minor": 5
}
