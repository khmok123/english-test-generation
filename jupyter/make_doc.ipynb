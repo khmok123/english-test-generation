{
 "cells": [
  {
   "cell_type": "code",
   "execution_count": 19,
   "id": "256cdf8c",
   "metadata": {},
   "outputs": [],
   "source": [
    "%reload_ext autoreload\n",
    "%autoreload 2\n",
    "from vocab_exercise import get_word_sentences\n",
    "\n",
    "examples = get_word_sentences(\"break down\")"
   ]
  },
  {
   "cell_type": "code",
   "execution_count": 20,
   "id": "a0169e7c",
   "metadata": {},
   "outputs": [
    {
     "data": {
      "text/plain": [
       "['His van broke down.', '']"
      ]
     },
     "execution_count": 20,
     "metadata": {},
     "output_type": "execute_result"
    }
   ],
   "source": [
    "examples"
   ]
  },
  {
   "cell_type": "code",
   "execution_count": 13,
   "id": "766d8cae",
   "metadata": {
    "scrolled": true
   },
   "outputs": [],
   "source": [
    "template_dir = r'.\\template\\template.docx'\n",
    "output_dir = r'.\\template\\output.docx'\n",
    "copyfile(template_dir, output_dir)\n",
    "\n",
    "document = Document(output_dir)\n",
    "\n",
    "for section in document.sections:\n",
    "    first_page_footer = section.first_page_footer\n",
    "    footer = section.footer\n",
    "    first_page_footer.paragraphs[0].text  = \"testing\"\n",
    "    footer.paragraphs[0].text  = \"testing\"\n",
    "\n",
    "# title = document.add_paragraph()\n",
    "print(\"Welcome to the English test generator!\")\n",
    "test_title = input(\"Enter the title of the test: \")\n",
    "unit_title = input(\"Enter the unit title of the test: \")\n",
    "add_test_title(document, test_title_style, test_title, unit_title)\n",
    "# add_test_title(document, test_title_style, 'P.3 General English Test', '(Space Town Unit 17)(1)')\n",
    "\n",
    "add_allowed_time(document, \"Time allowed: 45 minutes\")\n",
    "add_section_title(document, \"A.  Grammar and Usage (60%)\")\n",
    "\n",
    "tense_exercise_auto(document,grade)\n",
    "vocab_exercise_auto(document)\n",
    "\n",
    "# Tense exercise\n",
    "# add_section_title(document, \"Fill in the blanks with the correct form of the given verbs. (15%)-15@1%\")\n",
    "# wikipedia.set_lang('simple')\n",
    "# dt = wikipedia.page(\"Donald Trump\")\n",
    "# source_text = dt.summary\n",
    "# tense_string = tense_exercise_string(source_text, grade=6, blanks_number=20, factor=2)\n",
    "# add_regular_text(document, tense_string)\n",
    "\n",
    "# Vocab exercise\n",
    "\n",
    "\n",
    "document.save(output_dir)"
   ]
  },
  {
   "cell_type": "code",
   "execution_count": 11,
   "id": "3536158e",
   "metadata": {},
   "outputs": [],
   "source": [
    "from docx import Document\n",
    "from docx.shared import Pt, Cm, Inches\n",
    "from shutil import copyfile\n",
    "from docx.enum.text import WD_ALIGN_PARAGRAPH\n",
    "import wikipedia\n",
    "\n",
    "%reload_ext autoreload\n",
    "%autoreload 2\n",
    "from tense_exercise import tense_exercise_string\n",
    "\n",
    "alignments = {\"center\": WD_ALIGN_PARAGRAPH.CENTER, \n",
    "              \"left\": WD_ALIGN_PARAGRAPH.LEFT,\n",
    "             \"right\": WD_ALIGN_PARAGRAPH.RIGHT}\n",
    "\n",
    "test_title_style = {\"fontname\": \"Arial\", \"fontsize\": Pt(16), \n",
    "                \"alignment\": alignments[\"center\"]}\n",
    "allowed_time_style = {\"fontname\": \"Arial\", \"fontsize\": Pt(12), \n",
    "               \"alignment\": alignments[\"left\"], \n",
    "                \"bold\": False, \"italic\": False, \"underline\": False}\n",
    "section_title_style = {\"fontname\": \"Arial\", \"fontsize\": Pt(12),\n",
    "                      \"alignment\": alignments[\"left\"],\n",
    "                \"bold\": True, \"italic\": False, \"underline\": False}\n",
    "regular_text_style = {\"fontname\": \"Arial\", \"fontsize\": Pt(12), \n",
    "               \"alignment\": alignments[\"left\"], \n",
    "                \"bold\": False, \"italic\": False, \"underline\": False}\n",
    "\n",
    "def add_test_title(document, style, test_title, unit_name):\n",
    "    title = document.paragraphs[0]\n",
    "    title.alignment = style[\"alignment\"]\n",
    "    run1 = title.add_run(test_title)\n",
    "    run1.font.name = style[\"fontname\"]\n",
    "    run1.font.size = style[\"fontsize\"]\n",
    "    run1.underline = True\n",
    "    run1.bold = True\n",
    "    run1.add_break()\n",
    "    run2 = title.add_run(unit_name)\n",
    "    run2.font.name = style[\"fontname\"]\n",
    "    run2.font.size = style[\"fontsize\"]\n",
    "    run2.bold = True\n",
    "    \n",
    "def add_one_line(document, style, text):\n",
    "    p = document.add_paragraph()\n",
    "    p.alignment = style[\"alignment\"]\n",
    "    run = p.add_run(text)\n",
    "    run.font.name = style[\"fontname\"]\n",
    "    run.font.size = style[\"fontsize\"]\n",
    "    run.bold = style[\"bold\"]\n",
    "    run.italic = style[\"italic\"]\n",
    "    run.underline = style[\"underline\"]\n",
    "    \n",
    "def add_section_title(document, text):\n",
    "    add_one_line(document, section_title_style, text)\n",
    "    \n",
    "def add_allowed_time(document, text):\n",
    "    add_one_line(document, allowed_time_style, text)\n",
    "    \n",
    "def add_regular_text(document, text):\n",
    "    add_one_line(document, regular_text_style, text)"
   ]
  },
  {
   "cell_type": "code",
   "execution_count": null,
   "id": "a1c50582",
   "metadata": {},
   "outputs": [],
   "source": []
  }
 ],
 "metadata": {
  "kernelspec": {
   "display_name": "Python 3",
   "language": "python",
   "name": "python3"
  },
  "language_info": {
   "codemirror_mode": {
    "name": "ipython",
    "version": 3
   },
   "file_extension": ".py",
   "mimetype": "text/x-python",
   "name": "python",
   "nbconvert_exporter": "python",
   "pygments_lexer": "ipython3",
   "version": "3.8.5"
  }
 },
 "nbformat": 4,
 "nbformat_minor": 5
}
