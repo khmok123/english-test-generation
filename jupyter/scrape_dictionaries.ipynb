{
 "cells": [
  {
   "cell_type": "code",
   "execution_count": 1,
   "id": "ced89184",
   "metadata": {},
   "outputs": [],
   "source": [
    "def get_grade(text):\n",
    "    grade_str = textstat.text_standard(text)\n",
    "    num_str = re.findall(r'\\d+', grade_str)\n",
    "    grade = int(num_str[0])\n",
    "    return grade"
   ]
  },
  {
   "cell_type": "code",
   "execution_count": 1,
   "id": "3d4916dc",
   "metadata": {},
   "outputs": [],
   "source": [
    "from bs4 import BeautifulSoup\n",
    "import requests\n",
    "import textstat\n",
    "import operator\n",
    "import re\n",
    "\n",
    "def scrape_dictionary(word, sort_by_grade = False, print_ten = True):\n",
    "    base_url = 'https://sentence.yourdictionary.com/'\n",
    "\n",
    "    url = base_url + word\n",
    "    page = requests.get(url)\n",
    "    soup = BeautifulSoup(page.content, 'html.parser')\n",
    "\n",
    "    script = soup.find('script')\n",
    "    script_text = str(script)\n",
    "    sentences = []\n",
    "    str1=',audio'.join('sentences:'.join(script_text.split('sentences:')[1:]).split(',audio:')[:-1])\n",
    "    for i in str1[2:].split('},{'):\n",
    "        sentences.append(\"\\\"\".join(i.split(\"\\\"\")[1:-1]))\n",
    "    \n",
    "    if sort_by_grade:\n",
    "        grades = []\n",
    "        for sentence in sentences:\n",
    "            grades.append(get_grade(sentence))\n",
    "\n",
    "        zipped_sentences = list(zip(grades,sentences))\n",
    "        res = sorted(zipped_sentences, key = operator.itemgetter(0))\n",
    "    else:\n",
    "        res = sentences\n",
    "    if print_ten:\n",
    "        res = res[:10]\n",
    "    print(res)"
   ]
  },
  {
   "cell_type": "code",
   "execution_count": 2,
   "id": "17c14fd7",
   "metadata": {},
   "outputs": [
    {
     "name": "stdout",
     "output_type": "stream",
     "text": [
      "tears\n",
      "['Tears burned her eyes and her lower lip trembled.', 'Tears stung her eyes.', 'Tears were in his eyes; but he tried to look brave.', \"Her eyes were filling with tears and she didn't want him to see.\", 'The stored tears continued to flow and the sobs wracked her body, robbing it of the ability to speak – barely allowing a breath to be drawn.', 'Her tears felt good.', 'She rocked back and fourth, tears coursing down her cheeks unchecked.', 'My heart was full of tears, for I love the beautiful truth with my whole heart and mind.', 'Her eyes were probably bloodshot and tears were beginning to blur her vision.', 'She coughed, and tears stung her eyes.']\n",
      "None\n"
     ]
    }
   ],
   "source": [
    "words = [\"tears\"]\n",
    "for word in words:\n",
    "    print(word)\n",
    "    l = scrape_dictionary(word)\n",
    "    print(l)\n",
    "# for word in words:\n",
    "#     print(word)\n",
    "#     l = scrape_dictionary(word, sort_by_grade=True)\n",
    "#     print(l)"
   ]
  }
 ],
 "metadata": {
  "kernelspec": {
   "display_name": "Python 3",
   "language": "python",
   "name": "python3"
  },
  "language_info": {
   "codemirror_mode": {
    "name": "ipython",
    "version": 3
   },
   "file_extension": ".py",
   "mimetype": "text/x-python",
   "name": "python",
   "nbconvert_exporter": "python",
   "pygments_lexer": "ipython3",
   "version": "3.8.5"
  }
 },
 "nbformat": 4,
 "nbformat_minor": 5
}
